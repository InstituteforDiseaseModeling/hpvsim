{
 "cells": [
  {
   "cell_type": "markdown",
   "metadata": {},
   "source": [
    "# T1 - Getting started\n",
    "\n",
    "Installing and getting started with HPVsim is quite simple.\n",
    "\n",
    "HPVsim is a Python package that can be pip-installed by typing `pip install hpvsim` into a terminal. You can then check that the installation was successful by importing HPVsim with `import hpvsim as hpv`.\n",
    "\n",
    "The basic design philosophy of HPVsim is: **common tasks should be simple**. For example:\n",
    "\n",
    "- Defining parameters\n",
    "- Running a simulation\n",
    "- Plotting results\n",
    "\n",
    "This tutorial walks you through how to do these things."
   ]
  },
  {
   "cell_type": "markdown",
   "metadata": {},
   "source": [
    "<div class=\"alert alert-info\">\n",
    "    \n",
    "Click [here](https://mybinder.org/v2/gh/institutefordiseasemodeling/hpvsim/HEAD?urlpath=lab%2Ftree%2Fdocs%2Ftutorials%2Ftut_intro.ipynb) to open an interactive version of this notebook.\n",
    "    \n",
    "</div>"
   ]
  },
  {
   "cell_type": "markdown",
   "metadata": {},
   "source": [
    "## Getting started\n",
    "\n",
    "To create, run, and plot a sim with default options is just:"
   ]
  },
  {
   "cell_type": "code",
   "execution_count": null,
   "metadata": {},
   "outputs": [],
   "source": [
    "import hpvsim as hpv\n",
    "\n",
    "sim = hpv.Sim()\n",
    "sim.run()\n",
    "fig = sim.plot()"
   ]
  },
  {
   "cell_type": "markdown",
   "metadata": {},
   "source": [
    "## Defining parameters and genotypes, and running simulations\n",
    "\n",
    "Parameters are defined as a dictionary.\n",
    "Some common parameters to modify are the number of agents in the simulation, the genotypes to simulate, and the start and end dates of the simulation.\n",
    "We can define those as:"
   ]
  },
  {
   "cell_type": "code",
   "execution_count": null,
   "metadata": {},
   "outputs": [],
   "source": [
    "pars = dict(\n",
    "    n_agents = 10e3,\n",
    "    genotypes = [16, 18, 'hr'], # Simulate genotypes 16 and 18, plus all other high-risk HPV genotypes pooled together\n",
    "    start = 1980,\n",
    "    end = 2030,\n",
    ")"
   ]
  },
  {
   "cell_type": "markdown",
   "metadata": {},
   "source": [
    "Running a simulation is pretty easy. In fact, running a sim with the parameters we defined above is just:"
   ]
  },
  {
   "cell_type": "code",
   "execution_count": null,
   "metadata": {},
   "outputs": [],
   "source": [
    "sim = hpv.Sim(pars)\n",
    "sim.run()"
   ]
  },
  {
   "cell_type": "markdown",
   "metadata": {},
   "source": [
    "This will generate a results dictionary `sim.results`.\n",
    "Results by genotype are named things like `sim.results['infections']` and stored as arrays where each row corresponds to a genotype, while totals across all genotypes have names like `sim.results['infections']` or `sim.results['cancers']`.\n",
    "\n",
    "Rather than creating a parameter dictionary, any valid parameter can also be passed to the sim directly. For example, exactly equivalent to the above is:"
   ]
  },
  {
   "cell_type": "code",
   "execution_count": null,
   "metadata": {},
   "outputs": [],
   "source": [
    "sim = hpv.Sim(n_agents=10e3, start=1980, end=2030)\n",
    "sim.run()"
   ]
  },
  {
   "cell_type": "markdown",
   "metadata": {},
   "source": [
    "You can mix and match too – pass in a parameter dictionary with default options, and then include other parameters as keywords (including overrides; keyword arguments take precedence). For example:"
   ]
  },
  {
   "cell_type": "code",
   "execution_count": null,
   "metadata": {},
   "outputs": [],
   "source": [
    "sim = hpv.Sim(pars, end=2050) # Use parameters defined above, except set the end data to 2050\n",
    "sim.run()"
   ]
  },
  {
   "cell_type": "markdown",
   "metadata": {},
   "source": [
    "## Plotting results\n",
    "\n",
    "As you saw above, plotting the results of a simulation is rather easy too:"
   ]
  },
  {
   "cell_type": "code",
   "execution_count": null,
   "metadata": {},
   "outputs": [],
   "source": [
    "fig = sim.plot()"
   ]
  },
  {
   "cell_type": "markdown",
   "metadata": {},
   "source": [
    "## Full usage example\n",
    "\n",
    "Many of the details of this example will be explained in later tutorials, but to give you a taste, here's an example of how you would run two simulations to determine the impact of a custom intervention aimed at protecting the elderly."
   ]
  },
  {
   "cell_type": "code",
   "execution_count": null,
   "metadata": {},
   "outputs": [],
   "source": [
    "import hpvsim as hpv\n",
    "\n",
    "# Custom vaccination intervention\n",
    "def custom_vx(sim):\n",
    "    if sim.yearvec[sim.t] == 2000:\n",
    "        target_group = (sim.people.age>9) * (sim.people.age<14)\n",
    "        sim.people.peak_imm[0, target_group] = 1\n",
    "\n",
    "pars = dict(\n",
    "    location = 'tanzania', # Use population characteristics for Japan\n",
    "    n_agents = 10e3, # Have 50,000 people total in the population\n",
    "    start = 1980, # Start the simulation in 1980\n",
    "    n_years = 50, # Run the simulation for 50 years\n",
    "    burnin = 10, # Discard the first 20 years as burnin period\n",
    "    verbose = 0, # Do not print any output\n",
    ")\n",
    "\n",
    "# Running with multisims -- see Tutorial 3\n",
    "s1 = hpv.Sim(pars, label='Default')\n",
    "s2 = hpv.Sim(pars, interventions=custom_vx, label='Custom vaccination')\n",
    "msim = hpv.MultiSim([s1, s2])\n",
    "msim.run()\n",
    "fig = msim.plot(['cancers', 'cins'])"
   ]
  },
  {
   "cell_type": "code",
   "execution_count": null,
   "metadata": {},
   "outputs": [],
   "source": []
  }
 ],
 "metadata": {
  "kernelspec": {
   "display_name": "Python 3 (ipykernel)",
   "language": "python",
   "name": "python3"
  },
  "language_info": {
   "codemirror_mode": {
    "name": "ipython",
    "version": 3
   },
   "file_extension": ".py",
   "mimetype": "text/x-python",
   "name": "python",
   "nbconvert_exporter": "python",
   "pygments_lexer": "ipython3",
   "version": "3.9.13"
  },
  "toc": {
   "base_numbering": 1,
   "nav_menu": {},
   "number_sections": true,
   "sideBar": true,
   "skip_h1_title": false,
   "title_cell": "Table of Contents",
   "title_sidebar": "Contents",
   "toc_cell": false,
   "toc_position": {},
   "toc_section_display": true,
   "toc_window_display": false
  }
 },
 "nbformat": 4,
 "nbformat_minor": 4
}
