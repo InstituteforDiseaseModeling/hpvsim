{
 "cells": [
  {
   "cell_type": "markdown",
   "metadata": {},
   "source": [
    "# T5 - Using interventions\n",
    "\n",
    "Interventions are one of the most critical parts of HPVsim. This tutorial shows how to implement standard interventions, as well as how to define your own custom interventions."
   ]
  },
  {
   "cell_type": "markdown",
   "metadata": {},
   "source": [
    "<div class=\"alert alert-info\">\n",
    "    \n",
    "Click [here](https://mybinder.org/v2/gh/institutefordiseasemodeling/hpvsim/HEAD?urlpath=lab%2Ftree%2Fdocs%2Ftutorials%2Ftut_interventions.ipynb) to open an interactive version of this notebook.\n",
    "    \n",
    "</div>"
   ]
  },
  {
   "cell_type": "markdown",
   "metadata": {},
   "source": [
    "## Products and interventions\n",
    "\n",
    "HPVsim contains *products*, which can be thought of as the actual test, diagnostic, treatment, or vaccine product being used, as well as *interventions*, which are responsible for delivering the products to the population.\n",
    "Information about the default products included with HPVsim (e.g. attributes like test positivity and efficacy) are available in the `hpvsim/data/products_*.csv` files. Specifically:\n",
    "\n",
    "* Screening products (VIA, Pap smears, liquid-based cytology, HPV testing, and HPV16/18 testing): `hpvsim/data/products_dx.csv`\n",
    "* Treatment products (ablation, excision, and therapeutic vaccines): `hpvsim/data/products_tx.csv`\n",
    "* Prophylactic vaccine products (bivalent, quadrivalent, nonavalent): `hpvsim/data/products_vx.csv`\n",
    "\n",
    "It's also possible to make a custom product, e.g."
   ]
  },
  {
   "cell_type": "code",
   "execution_count": null,
   "metadata": {
    "collapsed": false,
    "jupyter": {
     "outputs_hidden": false
    }
   },
   "outputs": [],
   "source": [
    "import hpvsim as hpv\n",
    "import pandas as pd\n",
    "my_treatment_data = pd.DataFrame({'name':'new_tx', 'state':['precin','cin1','cin2','cin3','cancerous'],'genotype':'all','efficacy':[.2,.3,.3,.4,.4]})\n",
    "my_treatment = hpv.tx(df=my_treatment_data)"
   ]
  },
  {
   "cell_type": "markdown",
   "metadata": {},
   "source": [
    "Custom products can be made for diagnostics and vaccination in the same way. The efficacy of some products varies by genotype, in which case efficacy values for each genotype can be entered as separate dataframe rows.\n",
    "\n",
    "Most of the time, it isn't necessary to create your own products if you just want to use one of the standard options. When setting up screening, triage, or treatment interventions, it's possible to pass in a string that will create a standard default product."
   ]
  },
  {
   "cell_type": "markdown",
   "metadata": {},
   "source": [
    "## Screening and treatment interventions\n",
    "\n",
    "Screening and treatment is implemented in HPVsim as a flexible set of interventions that can be mixed and matched. By specifying how each of the components link together, it's possible to create quite complex algorithms. This is illustrated in the following example:"
   ]
  },
  {
   "cell_type": "code",
   "execution_count": null,
   "metadata": {
    "collapsed": false,
    "jupyter": {
     "outputs_hidden": false
    }
   },
   "outputs": [],
   "source": [
    "# Define a series of interventions to screen, triage, assign treatment, and administer treatment\n",
    "prob = 0.6\n",
    "screen      = hpv.routine_screening(start_year=2015, prob=prob, product='via', label='screen') # Routine screening\n",
    "to_triage   = lambda sim: sim.get_intervention('screen').outcomes['positive'] # Define who's eligible for triage\n",
    "triage      = hpv.routine_triage(eligibility=to_triage, prob=prob, product='hpv', label='triage') # Triage people\n",
    "to_treat    = lambda sim: sim.get_intervention('triage').outcomes['positive'] # Define who's eligible to be assigned treatment\n",
    "assign_tx   = hpv.routine_triage(eligibility=to_treat, prob=prob, product='tx_assigner', label='assign_tx') # Assign treatment\n",
    "to_ablate   = lambda sim: sim.get_intervention('assign_tx').outcomes['ablation'] # Define who's eligible for ablation treatment\n",
    "ablation    = hpv.treat_num(eligibility=to_ablate, prob=prob, product='ablation') # Administer ablation\n",
    "to_excise   = lambda sim: sim.get_intervention('assign_tx').outcomes['excision'] # Define who's eligible for excision\n",
    "excision    = hpv.treat_delay(eligibility=to_excise, prob=prob, product='excision') # Administer excision\n",
    "\n",
    "# Define the parameters\n",
    "pars = dict(\n",
    "    n_agents      = 20e3,       # Population size\n",
    "    n_years       = 35,         # Number of years to simulate\n",
    "    verbose       = 0,          # Don't print details of the run\n",
    "    rand_seed     = 2,          # Set a non-default seed\n",
    "    genotypes     = [16, 18],   # Include the two genotypes of greatest general interest\n",
    ")\n",
    "\n",
    "# Create the sim with and without interventions\n",
    "orig_sim = hpv.Sim(pars, label='Baseline')\n",
    "sim = hpv.Sim(pars, interventions = [screen, triage, assign_tx, ablation, excision], label='With screen & treat')\n",
    "\n",
    "# Run and plot\n",
    "msim = hpv.parallel(orig_sim, sim)\n",
    "msim.plot();"
   ]
  },
  {
   "cell_type": "markdown",
   "metadata": {},
   "source": [
    "A few things to note here:\n",
    "\n",
    "* By default, interventions are shown with vertical dashed lines. You can turn this off by passing `do_plot=False` to the intervention.\n",
    "* Note that like other \"parameters\", you can either pass interventions to the sim directly or as part of the pars dictionary; the examples below illustrate these options.\n",
    "* Several of the interventions above are defined as routine interventions, e.g. `hpv.routine_screening()` and `hpv.routine_triage()`. In general, most interventions exist as both routine and campaign versions. The difference between the two comes down to how the dates are interpreted:\n",
    "    * `hpv.routine_screening(start=2020, end=2030, prob=0.2)` implies that the intervention will be in place each year between 2020-2030;\n",
    "    * `hpv.campaign_screening(years=[2020,2030], prob=0.2)` implies that the intervention will be delivered twice: once in 2020 and once in 2030.\n",
    "\n",
    "The script `examples/t05_screen_algorithms.py` shows how to set up each of the seven algorithms recommended by in the WHO's guidelined for screening and treatment of cervical pre-cancer lesions (see https://www.ncbi.nlm.nih.gov/books/NBK572308/).\n"
   ]
  },
  {
   "cell_type": "markdown",
   "metadata": {
    "tags": []
   },
   "source": [
    "## Prophylactic vaccination\n",
    "\n",
    "Prophylactic vaccination within HPVsim simply targets a vaccine product towards a subset of the population.\n"
   ]
  },
  {
   "cell_type": "code",
   "execution_count": null,
   "metadata": {
    "jp-MarkdownHeadingCollapsed": true,
    "tags": []
   },
   "outputs": [],
   "source": [
    "vx = hpv.routine_vx(prob=prob, start_year=2015, age_range=[9,10], product='bivalent')\n",
    "\n",
    "# Create the sim with and without interventions\n",
    "orig_sim = hpv.Sim(pars, label='Baseline')\n",
    "sim = hpv.Sim(pars, interventions = vx, label='With vaccination')\n",
    "\n",
    "# Run and plot\n",
    "msim = hpv.parallel(orig_sim, sim)\n",
    "msim.plot();"
   ]
  },
  {
   "cell_type": "markdown",
   "metadata": {},
   "source": [
    "<div class=\"alert alert-success\">\n",
    "\n",
    "Note that probabilities passed to interventions are annual probabilities, not total.\n",
    "\n",
    "</div>"
   ]
  },
  {
   "cell_type": "markdown",
   "metadata": {},
   "source": [
    "## Therapeutic vaccination\n",
    "\n",
    "Therapeutic vaccination can be included in a few different formats/use cases:\n",
    "\n",
    "* As a part of a screen & treat algorithm\n",
    "* As a mass vaccination without screening.\n",
    "\n",
    "The following examples illustrate this:"
   ]
  },
  {
   "cell_type": "code",
   "execution_count": null,
   "metadata": {
    "collapsed": false,
    "jupyter": {
     "outputs_hidden": false
    }
   },
   "outputs": [],
   "source": [
    "import numpy as np\n",
    "import hpvsim as hpv\n",
    "\n",
    "# Define mass therapeutic vaccination:\n",
    "campaign_txvx_dose1 = hpv.campaign_txvx(prob = 0.9, years = 2015, age_range = [30,50], product = 'txvx1', label = 'campaign txvx')\n",
    "second_dose_eligible = lambda sim: (sim.people.txvx_doses == 1) | (sim.t > (sim.people.date_tx_vaccinated + 0.5 / sim['dt']))\n",
    "campaign_txvx_dose2 = hpv.campaign_txvx(prob = 0.7, years=[2015,2016], age_range=[30, 70], product = 'txvx2', eligibility = second_dose_eligible, label = 'campaign txvx 2nd dose')\n",
    "routine_txvx_dose1 = hpv.routine_txvx(prob = 0.9, start_year = 2016, age_range = [30,31], product = 'txvx2',label = 'routine txvx')\n",
    "second_dose_eligible = lambda sim: (sim.people.txvx_doses == 1) | (sim.t > (sim.people.date_tx_vaccinated + 0.5 / sim['dt']))\n",
    "routine_txvx_dose2 = hpv.routine_txvx(prob = 0.8, start_year = 2016, age_range = [30,31], product = 'txvx1', eligibility=second_dose_eligible, label = 'routine txvx 2nd dose')\n",
    "mass_vx_intvs = [campaign_txvx_dose1, campaign_txvx_dose2, routine_txvx_dose1, routine_txvx_dose2]\n",
    "for intv in mass_vx_intvs: intv.do_plot=False\n",
    "\n",
    "# Define therapeutic vaccination within screen and treat\n",
    "campaign_txvx_dose1 = hpv.campaign_txvx(prob = 0.9, years = 2015, age_range = [30,50], product = 'txvx1', label = 'campaign txvx')\n",
    "second_dose_eligible = lambda sim: (sim.people.txvx_doses == 1) | (sim.t > (sim.people.date_tx_vaccinated + 0.5 / sim['dt']))\n",
    "campaign_txvx_dose2 = hpv.campaign_txvx(prob = 0.7, years=[2015,2016], age_range=[30, 70], product = 'txvx2', eligibility = second_dose_eligible, label = 'campaign txvx 2nd dose')\n",
    "routine_txvx_dose1 = hpv.routine_txvx(prob = 0.9, start_year = 2016, age_range = [30,31], product = 'txvx2',label = 'routine txvx')\n",
    "second_dose_eligible = lambda sim: (sim.people.txvx_doses == 1) | (sim.t > (sim.people.date_tx_vaccinated + 0.5 / sim['dt']))\n",
    "routine_txvx_dose2 = hpv.routine_txvx(prob = 0.8, start_year = 2016, age_range = [30,31], product = 'txvx1', eligibility=second_dose_eligible, label = 'routine txvx 2nd dose')\n",
    "mass_vx_intvs = [campaign_txvx_dose1, campaign_txvx_dose2, routine_txvx_dose1, routine_txvx_dose2]\n",
    "for intv in mass_vx_intvs: intv.do_plot=False\n",
    "\n",
    "\n",
    "# Screen, triage, assign treatment, treat\n",
    "screen_eligible = lambda sim: np.isnan(sim.people.date_screened) | (sim.t > (sim.people.date_screened + 5 / sim['dt']))\n",
    "routine_screen = hpv.routine_screening(start_year=2016, product='hpv', prob=0.1, eligibility=screen_eligible, age_range=[30, 50], label='routine screening')\n",
    "screened_pos = lambda sim: sim.get_intervention('routine screening').outcomes['positive'] # Get those who screen positive\n",
    "pos_screen_assesser = hpv.routine_triage(start_year=2016, product = 'txvx_assigner', prob = 1.0, annual_prob=False, eligibility = screened_pos, label = 'txvx assigner') # Offer TxVx or refer them for further testing\n",
    "txvx_eligible = lambda sim: sim.get_intervention('txvx assigner').outcomes['txvx'] # Get people who've been classified as txvx eligible based on the positive screen assessment\n",
    "deliver_txvx = hpv.linked_txvx(prob = 0.8, product = 'txvx1', eligibility = txvx_eligible, label = 'txvx') # Deliver txvx to them\n",
    "\n",
    "screen_vx_intv = [routine_screen, pos_screen_assesser, deliver_txvx]\n",
    "for intv in screen_vx_intv: intv.do_plot=False\n",
    "\n",
    "sim0 = hpv.Sim(pars=pars, label='Baseline')\n",
    "sim1 = hpv.Sim(pars=pars, interventions=mass_vx_intvs, label='Mass therapeutic vaccination')\n",
    "sim2 = hpv.Sim(pars=pars, interventions=screen_vx_intv, label='Therapeutic vaccination through screening')\n",
    "\n",
    "# Run and plot\n",
    "msim = hpv.parallel(sim0, sim1, sim2)\n",
    "msim.plot();\n"
   ]
  },
  {
   "cell_type": "markdown",
   "metadata": {},
   "source": []
  }
 ],
 "metadata": {
  "kernelspec": {
   "display_name": "Python 3 (ipykernel)",
   "language": "python",
   "name": "python3"
  },
  "language_info": {
   "codemirror_mode": {
    "name": "ipython",
    "version": 3
   },
   "file_extension": ".py",
   "mimetype": "text/x-python",
   "name": "python",
   "nbconvert_exporter": "python",
   "pygments_lexer": "ipython3",
   "version": "3.11.3"
  },
  "toc": {
   "base_numbering": 1,
   "nav_menu": {},
   "number_sections": true,
   "sideBar": true,
   "skip_h1_title": false,
   "title_cell": "Table of Contents",
   "title_sidebar": "Contents",
   "toc_cell": false,
   "toc_position": {},
   "toc_section_display": true,
   "toc_window_display": false
  }
 },
 "nbformat": 4,
 "nbformat_minor": 4
}
