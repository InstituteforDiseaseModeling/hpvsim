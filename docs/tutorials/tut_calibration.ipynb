{
 "cells": [
  {
   "cell_type": "markdown",
   "metadata": {},
   "source": [
    "# T7 - Calibration\n",
    "\n",
    "Tutorial 2 demonstrated how to run the model and plot the outputs. But it's entirely possible that the model outputs won't look like the data for the country that you wish to model. The default parameter values included in HPVsim are intended as points of departure to be iteratively refined via calibration. The process of model calibration involves finding the model parameters that are the most likely explanation for the observed data. This tutorial gives an introduction to the Fit object and some recipes for optimization approaches."
   ]
  },
  {
   "cell_type": "markdown",
   "metadata": {},
   "source": [
    "<div class=\"alert alert-info\">\n",
    "    \n",
    "Click [here](https://mybinder.org/v2/gh/institutefordiseasemodeling/hpvsim/HEAD?urlpath=lab%2Ftree%2Fdocs%2Ftutorials%2Ftut_calibration.ipynb) to open an interactive version of this notebook.\n",
    "    \n",
    "</div>"
   ]
  },
  {
   "cell_type": "markdown",
   "metadata": {},
   "source": [
    "## Data types supported by HPVsim\n",
    "\n",
    "Data on HPV and cervical disease comes in many different formats. When using HPVsim, the goal is typically to produce population-level estimates of epidemic outputs like:\n",
    "    - age-specific incidence of cancer or high-grade lesions in one or more years;\n",
    "    - number of cases of cancer or high-grade lesions reported in one or more years;\n",
    "    - HPV prevalence over time;\n",
    "    - lifetime incidence of HPV;\n",
    "    - the distribution of genotypes in detected cases of cancer/high-grade lesions;\n",
    "    - sexual behavior metrics like the average age at first marriage, duration of relationships, or number of lifetime partners.\n",
    "\n",
    "After running HPVsim, estimates all of these variables are included within the `results` dictionary. To plot them alongside data, the easiest method is to use the `Calibration` object.\n",
    "\n",
    "\n",
    "## The Calibration object\n",
    "\n",
    "Calibration objects contain the following ingredients:\n",
    "    - an `hpv.Sim()` instance with details of the model configuration;\n",
    "    - two lists of parameters to vary, one for parameters that vary by genotype and one for those that don't;\n",
    "    - dataframes that hold the calibration targets, which are typically added as csv files;\n",
    "    - a list of any additional results to plot;\n",
    "    - settings that are passed to the Optuna package[LINK], an open source hyperparameter optimization framework that automates calibration for HPVsim.\n",
    "\n",
    "We have included Optuna as a built-in calibration option as we have found that it works reasonably well, but it is also possible to use other methods; we will discuss this a little further down.\n",
    "\n",
    "The example below illustrates the general idea of calibration, and can be adapted for different use cases:"
   ]
  },
  {
   "cell_type": "code",
   "execution_count": null,
   "metadata": {
    "pycharm": {
     "is_executing": true
    }
   },
   "outputs": [],
   "source": [
    "# Import HPVsim\n",
    "import hpvsim as hpv\n",
    "\n",
    "# Configure a simulation with some parameters\n",
    "pars = dict(n_agents=10e3, start=1980, end=2020, dt=0.25, location='nigeria')\n",
    "sim = hpv.Sim(pars)\n",
    "\n",
    "# Specify some parameters to adjust during calibration.\n",
    "# The parameters in the calib_pars dictionary don't vary by genotype,\n",
    "# whereas those in the genotype_pars dictionary do. Both kinds are\n",
    "# given in the order [best, lower_bound, upper_bound].\n",
    "calib_pars = dict(\n",
    "        beta=[0.05, 0.010, 0.20],\n",
    "    )\n",
    "\n",
    "genotype_pars = dict(\n",
    "    hpv16=dict(\n",
    "        cin_fn=dict(k=[0.5, 0.2, 1.0]),\n",
    "        dur_cin=dict(par1=[6, 4, 12])\n",
    "    ),\n",
    "    hpv18=dict(\n",
    "        cin_fn=dict(k=[0.5, 0.2, 1.0]),\n",
    "        dur_cin=dict(par1=[6, 4, 12])\n",
    "    )\n",
    ")\n",
    "\n",
    "# List the datafiles that contain data that we wish to compare the model to:\n",
    "datafiles=['nigeria_cancer_cases.csv',\n",
    "           'nigeria_cancer_types.csv']\n",
    "\n",
    "# List extra results that we don't have data on, but wish to include in the\n",
    "# calibration object so we can plot them.\n",
    "results_to_plot = ['cancer_incidence', 'asr_cancer_incidence']\n",
    "\n",
    "# Create the calibration object, run it, and plot the results\n",
    "calib = hpv.Calibration(\n",
    "    sim,\n",
    "    calib_pars=calib_pars,\n",
    "    genotype_pars=genotype_pars,\n",
    "    extra_sim_result_keys=results_to_plot,\n",
    "    datafiles=datafiles,\n",
    "    total_trials=3, n_workers=1\n",
    ")\n",
    "calib.calibrate(die=True)\n",
    "calib.plot(res_to_plot=4);"
   ]
  },
  {
   "cell_type": "markdown",
   "metadata": {},
   "source": [
    "This isn't a great fit yet! In general, it will probably be necessary to run many more trials that the 3 we ran here. Moreover, careful consideration should be given to the parameters that you want to adjust during calibration. In HPVsim we have taken the approach that any parameter can be adjusted. As we learn more about which parameters make most sense to calibrate, we will add details here. We would also enourage users to share their experiences with calibration and parameter searches."
   ]
  }
 ],
 "metadata": {
  "kernelspec": {
   "display_name": "Python 3 (ipykernel)",
   "language": "python",
   "name": "python3"
  },
  "language_info": {
   "codemirror_mode": {
    "name": "ipython",
    "version": 3
   },
   "file_extension": ".py",
   "mimetype": "text/x-python",
   "name": "python",
   "nbconvert_exporter": "python",
   "pygments_lexer": "ipython3",
   "version": "3.11.3"
  },
  "toc": {
   "base_numbering": 1,
   "nav_menu": {},
   "number_sections": true,
   "sideBar": true,
   "skip_h1_title": false,
   "title_cell": "Table of Contents",
   "title_sidebar": "Contents",
   "toc_cell": false,
   "toc_position": {},
   "toc_section_display": true,
   "toc_window_display": false
  }
 },
 "nbformat": 4,
 "nbformat_minor": 4
}
