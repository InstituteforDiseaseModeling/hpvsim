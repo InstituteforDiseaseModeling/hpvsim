{
 "cells": [
  {
   "cell_type": "markdown",
   "metadata": {},
   "source": [
    "# T6 - Using analyzers\n",
    "\n",
    "Analyzers are objects that do not change the behavior of a simulation, but just report on its internal state, almost always something to do with `sim.people`. This tutorial takes you through some of the built-in analyzers and gives a brief example of how to build your own."
   ]
  },
  {
   "cell_type": "markdown",
   "metadata": {},
   "source": [
    "<div class=\"alert alert-info\">\n",
    "    \n",
    "Click [here](https://mybinder.org/v2/gh/institutefordiseasemodeling/hpvsim/HEAD?urlpath=lab%2Ftree%2Fdocs%2Ftutorials%2Ftut_analyzers.ipynb) to open an interactive version of this notebook.\n",
    "    \n",
    "</div>\n",
    "\n"
   ]
  },
  {
   "cell_type": "markdown",
   "metadata": {
    "tags": []
   },
   "source": [
    "## Results by age\n",
    "\n",
    "By far the most common reason to use an analyzer is to report results by age. The results in `sim.results` already include results disaggregated by age, e.g. `sim.results['cancers_by_age']`, but these results use standardized age bins which may not match the age bins for available data on cervical cancers. Age-specific outputs can be customized using an analyzer to match the age bins of the data. The following example shows how to set this up:"
   ]
  },
  {
   "cell_type": "code",
   "execution_count": null,
   "metadata": {
    "collapsed": false,
    "jupyter": {
     "outputs_hidden": false
    },
    "tags": []
   },
   "outputs": [],
   "source": [
    "import numpy as np\n",
    "import sciris as sc\n",
    "import hpvsim as hpv\n",
    "\n",
    "# Create some parameters, setting beta (per-contact transmission probability) higher\n",
    "# to create more cancers for illutration\n",
    "pars = dict(beta=0.5, n_agents=50e3, start=1970, n_years=50, dt=1., location='tanzania')\n",
    "\n",
    "# Also set initial HPV prevalence to be high, again to generate more cancers\n",
    "pars['init_hpv_prev'] = {\n",
    "    'age_brackets'  : np.array([  12,   17,   24,   34,  44,   64,    80, 150]),\n",
    "    'm'             : np.array([ 0.0, 0.75, 0.9, 0.45, 0.1, 0.05, 0.005, 0]),\n",
    "    'f'             : np.array([ 0.0, 0.75, 0.9, 0.45, 0.1, 0.05, 0.005, 0]),\n",
    "}\n",
    "\n",
    "# Create the age analyzers.\n",
    "az1 = hpv.age_results(\n",
    "    result_args=sc.objdict(\n",
    "        hpv_prevalence=sc.objdict( # The keys of this dictionary are any results you want by age, and can be any key of sim.results\n",
    "            years=2019, # List the years that you want to generate results for\n",
    "            edges=np.array([0., 15., 20., 25., 30., 40., 45., 50., 55., 65., 100.]),\n",
    "        ),\n",
    "        hpv_incidence=sc.objdict(\n",
    "            years=2019,\n",
    "            edges=np.array([0., 15., 20., 25., 30., 40., 45., 50., 55., 65., 100.]),\n",
    "        ),\n",
    "        cancer_incidence=sc.objdict(\n",
    "            years=2019,\n",
    "            edges=np.array([0.,20.,25.,30.,40.,45.,50.,55.,65.,100.]),\n",
    "        ),\n",
    "        cancer_mortality=sc.objdict(\n",
    "            years=2019,\n",
    "            edges=np.array([0., 20., 25., 30., 40., 45., 50., 55., 65., 100.]),\n",
    "        )\n",
    "    )\n",
    ")\n",
    "\n",
    "sim = hpv.Sim(pars, genotypes=[16, 18], analyzers=[az1])\n",
    "sim.run()\n",
    "a = sim.get_analyzer()\n",
    "a.plot();"
   ]
  },
  {
   "cell_type": "markdown",
   "metadata": {},
   "source": [
    "It's also possible to plot these results alongside data."
   ]
  },
  {
   "cell_type": "code",
   "execution_count": null,
   "metadata": {
    "collapsed": false,
    "jupyter": {
     "outputs_hidden": false
    },
    "tags": []
   },
   "outputs": [],
   "source": [
    "az2 = hpv.age_results(\n",
    "    result_args=sc.objdict(\n",
    "        cancers=sc.objdict(\n",
    "            datafile='example_cancer_cases.csv',\n",
    "        ),\n",
    "    )\n",
    ")\n",
    "sim = hpv.Sim(pars, genotypes=[16, 18], analyzers=[az2])\n",
    "sim.run()\n",
    "a = sim.get_analyzer()\n",
    "a.plot();"
   ]
  },
  {
   "cell_type": "markdown",
   "metadata": {},
   "source": [
    "These results are not particularly well matched to the data, but we will deal with this in the calibration tutorial later."
   ]
  },
  {
   "cell_type": "markdown",
   "metadata": {},
   "source": [
    "## Snapshots\n",
    "\n",
    "Snapshots both take \"pictures\" of the `sim.people` object at specified points in time. This is because while most of the information from `sim.people` is retrievable at the end of the sim from the stored events, it's much easier to see what's going on at the time. The following example leverages a snapshot in order to create a figure demonstrating age mixing patterns among sexual contacts:"
   ]
  },
  {
   "cell_type": "code",
   "execution_count": null,
   "metadata": {
    "tags": []
   },
   "outputs": [],
   "source": [
    "snap = hpv.snapshot(timepoints=['2020'])\n",
    "sim = hpv.Sim(pars, analyzers=snap)\n",
    "sim.run()\n",
    "\n",
    "a = sim.get_analyzer()\n",
    "people = a.snapshots[0]\n",
    "\n",
    "# Plot age mixing\n",
    "import pylab as pl\n",
    "import matplotlib as mpl\n",
    "fig, ax = pl.subplots(nrows=1, ncols=1, figsize=(5, 4))\n",
    "\n",
    "fc = people.contacts['m']['age_f'] # Get the age of female contacts in marital partnership\n",
    "mc = people.contacts['m']['age_m'] # Get the age of male contacts in marital partnership\n",
    "h = ax.hist2d(fc, mc, bins=np.linspace(0, 75, 16), density=True, norm=mpl.colors.LogNorm())\n",
    "ax.set_xlabel('Age of female partner')\n",
    "ax.set_ylabel('Age of male partner')\n",
    "fig.colorbar(h[3], ax=ax)\n",
    "ax.set_title('Marital age mixing')\n",
    "pl.show();"
   ]
  },
  {
   "cell_type": "markdown",
   "metadata": {},
   "source": [
    "## Age pyramids\n",
    "\n",
    "Age pyramids, like snapshots, take a picture of the people at a given point in time, and then bin them into age groups by sex. These can also be plotted alongside data:"
   ]
  },
  {
   "cell_type": "code",
   "execution_count": null,
   "metadata": {
    "tags": []
   },
   "outputs": [],
   "source": [
    "# Create some parameters\n",
    "pars = dict(n_agents=50e3, start=2000, n_years=30, dt=0.5)\n",
    "\n",
    "# Make the age pyramid analyzer\n",
    "age_pyr = hpv.age_pyramid(\n",
    "    timepoints=['2010', '2020'],\n",
    "    datafile='south_africa_age_pyramid.csv',\n",
    "    edges=np.linspace(0, 100, 21))\n",
    "\n",
    "# Make the sim, run, get the analyzer, and plot\n",
    "sim = hpv.Sim(pars, location='south africa', analyzers=age_pyr)\n",
    "sim.run()\n",
    "a = sim.get_analyzer()\n",
    "fig = a.plot(percentages=True);"
   ]
  }
 ],
 "metadata": {
  "kernelspec": {
   "display_name": "Python 3 (ipykernel)",
   "language": "python",
   "name": "python3"
  },
  "language_info": {
   "codemirror_mode": {
    "name": "ipython",
    "version": 3
   },
   "file_extension": ".py",
   "mimetype": "text/x-python",
   "name": "python",
   "nbconvert_exporter": "python",
   "pygments_lexer": "ipython3",
   "version": "3.11.3"
  },
  "toc": {
   "base_numbering": 1,
   "nav_menu": {},
   "number_sections": true,
   "sideBar": true,
   "skip_h1_title": false,
   "title_cell": "Table of Contents",
   "title_sidebar": "Contents",
   "toc_cell": false,
   "toc_position": {},
   "toc_section_display": true,
   "toc_window_display": false
  }
 },
 "nbformat": 4,
 "nbformat_minor": 4
}
